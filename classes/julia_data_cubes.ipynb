{
  "cells": [
    {
      "cell_type": "raw",
      "metadata": {},
      "source": [
        "---\n",
        "title: Data Cubes in Julia\n",
        "author: Guido Kraemer\n",
        "format:\n",
        "  revealjs:\n",
        "    embed-resources: true\n",
        "execute:\n",
        "  echo: true\n",
        "  cache: true\n",
        "---"
      ]
    },
    {
      "cell_type": "code",
      "metadata": {
        "cache": false
      },
      "source": [
        "#| echo: false\n",
        "using Pkg\n",
        "Pkg.activate(\".\")\n",
        "using YAXArrays\n",
        "using Zarr\n",
        "using CairoMakie\n",
        "CairoMakie.activate!(type = \"png\")\n",
        "using Dates"
      ],
      "execution_count": null,
      "outputs": []
    },
    {
      "cell_type": "markdown",
      "metadata": {},
      "source": [
        "# Data Cubes\n",
        "\n",
        "## YAXArrays\n",
        "\n",
        "\n",
        "We are mostly going to work with Zarr datasets"
      ]
    },
    {
      "cell_type": "code",
      "metadata": {},
      "source": [
        "using YAXArrays\n",
        "using Zarr\n",
        "\n",
        "c1_path = \"/home/gkraemer/data/DataCube/v3.0.2/esdc-8d-0.25deg-256x128x128-3.0.2.zarr\"\n",
        "# c1_path = \"http://data.rsc4earth.de:9000/earthsystemdatacube/v3.0.2/esdc-8d-0.25deg-256x128x128-3.0.2.zarr\"\n",
        "# c1_path = \"/work/user/gy963viny/public/EarthSystemDataCube/v3.0.2/esdc-8d-0.25deg-256x128x128-3.0.2.zarr\"\n",
        "# c1_path = \"https://s3.uni-leipzig.de/esdc302/esdc-8d-0.25deg-256x128x128-3.0.2.zarr\"\n",
        "c1_zarr = Zarr.zopen(c1_path)\n",
        "c1_dataset = YAXArrays.open_dataset(c1_zarr)\n",
        "c1 = YAXArrays.Cube(c1_dataset)"
      ],
      "execution_count": null,
      "outputs": []
    },
    {
      "cell_type": "markdown",
      "metadata": {},
      "source": [
        "## Alternative chunking for plotting maps"
      ]
    },
    {
      "cell_type": "code",
      "metadata": {},
      "source": [
        "c2_path = \"/home/gkraemer/data/DataCube/v3.0.2/esdc-8d-0.25deg-1x720x1440-3.0.2.zarr\"\n",
        "# c2_path = \"http://data.rsc4earth.de:9000/earthsystemdatacube/v3.0.2/esdc-8d-0.25deg-1x720x1440-3.0.2.zarr\"\n",
        "# c2_path = \"/work/user/gy963viny/public/EarthSystemDataCube/v3.0.2/esdc-8d-0.25deg-1x720x1440-3.0.2.zarr\"\n",
        "# c2_path = \"https://s3.uni-leipzig.de/esdc302/esdc-8d-0.25deg-1x720x1440-3.0.2.zarr\"\n",
        "c2_zarr = Zarr.zopen(c2_path)\n",
        "c2_dataset = YAXArrays.open_dataset(c2_zarr)\n",
        "c2 = YAXArrays.Cube(c2_dataset)"
      ],
      "execution_count": null,
      "outputs": []
    },
    {
      "cell_type": "markdown",
      "metadata": {},
      "source": [
        "## subset\n",
        "\n",
        "subsets are lazy"
      ]
    },
    {
      "cell_type": "code",
      "metadata": {},
      "source": [
        "using Dates\n",
        "c1_sensible_heat = c1[variable = \"sensible_heat\"]\n",
        "c1_2020 = c1[time = (Date(2020, 1, 1), Date(2021, 1, 1))]"
      ],
      "execution_count": null,
      "outputs": []
    },
    {
      "cell_type": "markdown",
      "metadata": {},
      "source": [
        "## Axes"
      ]
    },
    {
      "cell_type": "code",
      "metadata": {},
      "source": [
        "getAxis(\"Variable\", c1).values"
      ],
      "execution_count": null,
      "outputs": []
    },
    {
      "cell_type": "markdown",
      "metadata": {},
      "source": [
        "## Access as array"
      ]
    },
    {
      "cell_type": "code",
      "metadata": {},
      "source": [
        "using CairoMakie # using GLMakie for interactive plots\n",
        "heatmap(c2[:, :, 1800, 1])"
      ],
      "execution_count": null,
      "outputs": []
    },
    {
      "cell_type": "markdown",
      "metadata": {},
      "source": [
        "## Access as array 2"
      ]
    },
    {
      "cell_type": "code",
      "metadata": {},
      "source": [
        "lines(c1[500, 300, :, 1])"
      ],
      "execution_count": null,
      "outputs": []
    },
    {
      "cell_type": "markdown",
      "metadata": {},
      "source": [
        "## Split-apply-combine"
      ]
    },
    {
      "cell_type": "code",
      "metadata": {},
      "source": [
        "using Statistics\n",
        "t_trend = mapslices(mean, c2[variable = \"air_temperature_2m\"],\n",
        "                    dims = (\"lon\", \"lat\"))"
      ],
      "execution_count": null,
      "outputs": []
    },
    {
      "cell_type": "code",
      "metadata": {},
      "source": [
        "lines(t_trend[:])"
      ],
      "execution_count": null,
      "outputs": []
    },
    {
      "cell_type": "markdown",
      "metadata": {},
      "source": [
        "## More complex split apply combine"
      ]
    },
    {
      "cell_type": "code",
      "metadata": {},
      "source": [
        "stat_axis = CategoricalAxis(\"statistic\", [\"mean\", \"std\"])\n",
        "global_stat_trends = YAXArrays.mapCube(\n",
        "    c2[variable = \"air_temperature_2m\"],\n",
        "    indims = InDims(\"lon\", \"lat\"),\n",
        "    outdims = OutDims(stat_axis)\n",
        ") do xout, xin\n",
        "    xin2 = filter(!isnan, xin)\n",
        "    m = mean(xin2)\n",
        "    xout[1] = m\n",
        "    xout[2] = std(xin2, mean = m)\n",
        "end"
      ],
      "execution_count": null,
      "outputs": []
    },
    {
      "cell_type": "markdown",
      "metadata": {},
      "source": [
        "## Plot it"
      ]
    },
    {
      "cell_type": "code",
      "metadata": {},
      "source": [
        "lines(global_stat_trends[2, :])"
      ],
      "execution_count": null,
      "outputs": []
    },
    {
      "cell_type": "markdown",
      "metadata": {},
      "source": [
        "## Save it"
      ]
    },
    {
      "cell_type": "code",
      "metadata": {},
      "source": [
        "filename =  \"data/global_stat_trends.zarr\"\n",
        "savecube(global_stat_trends, filename, driver = :zarr, overwrite = true)\n",
        "Cube(open_dataset(zopen(filename)))"
      ],
      "execution_count": null,
      "outputs": []
    },
    {
      "cell_type": "markdown",
      "metadata": {},
      "source": [
        "# Exercises\n",
        "\n",
        "## Exercises {.smaller}\n",
        "\n",
        "- The statistics in the examples are not weighted. Extend them with a correct\n",
        "  weighting.\n",
        "  - The area of a pixel scales approximately with $\\cos(\\text{lat})$\n",
        "  - The package `StatsBase` contains functions for `sum`, `mean`, etc. with\n",
        "    weights. Look at the documentation for how to use them.\n",
        "- Measure the time the above functions take when using `c2`. Explain why the\n",
        "  time is different.\n",
        "  - Calculate local trends in temperature\n",
        "  - Identify bottlenecks for calculation\n",
        "- look at the help `mapslices` for arrays and implement it yourself as\n",
        "  `$name_mapslices`.\n",
        "  - make a PR to `git@git.sc.uni-leipzig.de:ss2023-12-geo-m-ds02/mapslices.git`\n",
        "    and add the function.\n",
        "  - lets see who writes the most readable code, who writes the fastest function,\n",
        "    etc."
      ]
    }
  ],
  "metadata": {
    "kernelspec": {
      "name": "julia-1.7",
      "language": "julia",
      "display_name": "julia 1.7.3"
    }
  },
  "nbformat": 4,
  "nbformat_minor": 4
}