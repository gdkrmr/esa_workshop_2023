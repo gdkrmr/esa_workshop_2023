{
  "cells": [
    {
      "cell_type": "markdown",
      "metadata": {},
      "source": [
        "# O(1) Memory Statistics\n",
        "\n",
        "Guido Kraemer (Leipzig University)\n",
        "\n",
        "# Statistics"
      ],
      "id": "0d677e8a-a7d9-41d5-8e8d-6bff920ab67c"
    },
    {
      "cell_type": "code",
      "execution_count": 1,
      "metadata": {},
      "outputs": [
        {
          "output_type": "stream",
          "name": "stderr",
          "text": [
            "  Activating project at `~/Documents/classes/spatio-temporal_data/classes/03_o1_memory_stats`"
          ]
        }
      ],
      "source": [],
      "id": "2cb76839"
    },
    {
      "cell_type": "markdown",
      "metadata": {},
      "source": [
        "## sum\n",
        "\n",
        "Let’s calculate the sum of `n` random numbers. Which one of these\n",
        "functions consumes less memory as `n` increases?"
      ],
      "id": "d315a362-6847-4f28-88e6-f8d252b29b50"
    },
    {
      "cell_type": "code",
      "execution_count": 2,
      "metadata": {},
      "outputs": [],
      "source": [
        "function rand_sum1(n)\n",
        "    x = rand(n)\n",
        "    sum(x)\n",
        "end\n",
        "\n",
        "function rand_sum2(n)\n",
        "    s = 0.0\n",
        "    for i in 1:n\n",
        "        s += rand()\n",
        "    end\n",
        "    s\n",
        "end"
      ],
      "id": "06356870"
    },
    {
      "cell_type": "markdown",
      "metadata": {},
      "source": [
        "## memory"
      ],
      "id": "5a1ef23b-dab7-4b12-ac74-f68c784bff77"
    },
    {
      "cell_type": "code",
      "execution_count": 3,
      "metadata": {},
      "outputs": [
        {
          "output_type": "stream",
          "name": "stdout",
          "text": [
            "n = 10\n",
            "  rand_sum1:   0.000003 seconds (1 allocation: 144 bytes)\n",
            "  rand_sum2:   0.000002 seconds\n",
            "n = 100\n",
            "  rand_sum1:   0.000004 seconds (1 allocation: 896 bytes)\n",
            "  rand_sum2:   0.000001 seconds\n",
            "n = 1000\n",
            "  rand_sum1:   0.000004 seconds (1 allocation: 7.938 KiB)\n",
            "  rand_sum2:   0.000002 seconds\n",
            "n = 10000\n",
            "  rand_sum1:   0.000012 seconds (2 allocations: 78.172 KiB)\n",
            "  rand_sum2:   0.000012 seconds"
          ]
        }
      ],
      "source": [
        "for i in 1:4\n",
        "    n = 10^i\n",
        "    println(\"n = $n\")\n",
        "    print(\"  rand_sum1: \")\n",
        "    @time rand_sum1(n);\n",
        "    print(\"  rand_sum2: \")\n",
        "    @time rand_sum2(n);\n",
        "end"
      ],
      "id": "9e4ee41b"
    },
    {
      "cell_type": "markdown",
      "metadata": {},
      "source": [
        "## large `n`\n",
        "\n",
        "-   Memory consumption of `rand_sum1` increases linearly with `n`,\n",
        "    i.e. they are “$\\mathcal{O}(n)$ in memory”.\n",
        "-   If memory consumption is constant, it is called “$\\mathcal{O}(1)$ in\n",
        "    memory”.\n",
        "-   If `n` is too large, the won’t be enough RAM.\n",
        "-   There are algorithms that are “worse”, e.g. $\\mathcal{O}(n^2)$ or\n",
        "    even worse.\n",
        "-   The same annotation can be used for compute time, then it is called\n",
        "    “$\\mathcal{O}(n)$ in time”.\n",
        "\n",
        "## time complexity\n",
        "\n",
        "What is the time complexity of `rand_sum2`?"
      ],
      "id": "76f38a92-7ab5-463e-9a91-002eb9a3bd78"
    },
    {
      "cell_type": "code",
      "execution_count": 4,
      "metadata": {},
      "outputs": [],
      "source": [
        "function rand_sum2(n)\n",
        "    s = 0.0\n",
        "    for i in 1:n\n",
        "        s += rand()\n",
        "    end\n",
        "    s\n",
        "end"
      ],
      "id": "d555e24a"
    },
    {
      "cell_type": "markdown",
      "metadata": {},
      "source": [
        "## $O(n^2)$ example"
      ],
      "id": "1a32a8a0-b9bd-4cc8-bc6f-a57a0c39f431"
    },
    {
      "cell_type": "code",
      "execution_count": 5,
      "metadata": {},
      "outputs": [],
      "source": [
        "function rand_sum3(n)\n",
        "    s = 0.0\n",
        "    for i in 1:n\n",
        "        for j in 1:n\n",
        "            s += rand()\n",
        "        end\n",
        "    end\n",
        "    s\n",
        "end"
      ],
      "id": "e9324158"
    },
    {
      "cell_type": "markdown",
      "metadata": {},
      "source": [
        "-   What is the memory complexity here?\n",
        "-   What would be a version with with $\\mathcal{O}(n^2)$ memory\n",
        "    complexity?\n",
        "\n",
        "# $\\mathcal{O}(1)$ memory statistics\n",
        "\n",
        "## How is it possible?\n",
        "\n",
        "$$s = \\sum_{i = 1}^n x_i$$"
      ],
      "id": "a8562d06-1036-41b7-8b92-22d7ea32d4bf"
    },
    {
      "cell_type": "code",
      "execution_count": 6,
      "metadata": {},
      "outputs": [],
      "source": [
        "function my_sum(x::Vector{T}) where T\n",
        "    s = T(0.0)\n",
        "    for xi in x\n",
        "        s += xi\n",
        "    end\n",
        "    s\n",
        "end"
      ],
      "id": "b708f8dd"
    },
    {
      "cell_type": "markdown",
      "metadata": {},
      "source": [
        "## WeightedOnlineStats.jl"
      ],
      "id": "a20ee7e7-cb1d-4bd3-a864-dfcc041970e2"
    },
    {
      "cell_type": "code",
      "execution_count": 7,
      "metadata": {},
      "outputs": [
        {
          "output_type": "display_data",
          "metadata": {},
          "data": {
            "text/plain": [
              "4.4057707582226175"
            ]
          }
        }
      ],
      "source": [
        "using WeightedOnlineStats\n",
        "o1 = WeightedSum()\n",
        "for i in 1:10\n",
        "    xi = rand()\n",
        "    o1 = fit!(o1, xi, 1)\n",
        "end\n",
        "sum(o1)"
      ],
      "id": "5e293bee"
    },
    {
      "cell_type": "markdown",
      "metadata": {},
      "source": [
        "## More statistics\n",
        "\n",
        "Sum $$\\sum_{i=1}^n x_i$$\n",
        "\n",
        "Mean $$\\frac 1 n \\sum_{i=1}^n x_i$$\n",
        "\n",
        "Variance $$\\frac{1}{n} \\sum_{i=1}^n (\\bar{x} - x_i)^2$$\n",
        "\n",
        "## Julia\n",
        "\n",
        "The following Statistics are implemented in `WeightedOnlineStats.jl`:\n",
        "\n",
        "    WeightedSum\n",
        "    WeightedMean\n",
        "    WeightedVariance\n",
        "    WeightedCovMatrix\n",
        "    WeightedHist\n",
        "    WeightedAdaptiveHist\n",
        "\n",
        "There are more in `OnlineStats.jl`\n",
        "\n",
        "-   [OnlineStats.jl](https://joshday.github.io/OnlineStats.jl/stable/)\n",
        "-   [WeightedOnlineStats.jl](https://weightedonlinestats.guido-kraemer.com/stable/)\n",
        "\n",
        "## Interface"
      ],
      "id": "62598c9a-003f-4330-adb7-1f207888f504"
    },
    {
      "cell_type": "code",
      "execution_count": 8,
      "metadata": {},
      "outputs": [
        {
          "output_type": "display_data",
          "metadata": {},
          "data": {
            "text/plain": [
              "0.6982647156029932"
            ]
          }
        }
      ],
      "source": [
        "T = Float64\n",
        "o1 = WeightedMean(T)\n",
        "o2 = WeightedMean(T)\n",
        "value1 = rand()\n",
        "weight1 = rand()\n",
        "fit!(o1, value1, weight1)\n",
        "value2 = rand()\n",
        "weight2 = rand()\n",
        "fit!(o2, value2, weight2)\n",
        "o = merge(o1, o2)\n",
        "mean(o)"
      ],
      "id": "a9c4f2f5"
    },
    {
      "cell_type": "markdown",
      "metadata": {},
      "source": [
        "## Interface II\n",
        "\n",
        "We can use vectors but this is the same as a `for`-loop"
      ],
      "id": "ede95e00-5383-45ea-93a2-5255f86fe840"
    },
    {
      "cell_type": "code",
      "execution_count": 9,
      "metadata": {},
      "outputs": [
        {
          "output_type": "display_data",
          "metadata": {},
          "data": {
            "text/plain": [
              "0.5459058647728202"
            ]
          }
        }
      ],
      "source": [
        "x = rand(10)\n",
        "w = rand(10)\n",
        "fit!(o, x, w)\n",
        "mean(o)"
      ],
      "id": "03241d4f"
    },
    {
      "cell_type": "markdown",
      "metadata": {},
      "source": [
        "## Warning"
      ],
      "id": "73bae9ca-77ac-4609-82a8-ff6cf03b3509"
    },
    {
      "cell_type": "code",
      "execution_count": 10,
      "metadata": {
        "output-location": "column-fragment"
      },
      "outputs": [
        {
          "output_type": "stream",
          "name": "stdout",
          "text": [
            "my_mean(x) = 2.4973105f17\n",
            "my_mean(reverse(x)) = 2.4998555f17\n",
            "mean(x) = 2.500005f17\n",
            "mean(o1) = 2.5005301f17\n",
            "mean(o2) = 2.5000050001806928e17"
          ]
        }
      ],
      "source": [
        "my_mean(x) = my_sum(x) / length(x)\n",
        "x = Float32.((1_000_000:-1:1) .^ 3)\n",
        "@show my_mean(x)\n",
        "@show my_mean(reverse(x))\n",
        "@show mean(x)\n",
        "o1 = WeightedMean(Float32)\n",
        "o2 = WeightedMean(Float64)\n",
        "for i in 1:length(x)\n",
        "    fit!(o1, x[i], 1)\n",
        "    fit!(o2, x[i], 1)\n",
        "end\n",
        "@show mean(o1)\n",
        "@show mean(o2);"
      ],
      "id": "2da7526e"
    },
    {
      "cell_type": "markdown",
      "metadata": {},
      "source": [
        ". . .\n",
        "\n",
        "-   You are responsible for correct calculations!\n",
        "-   `WeightedOnlineStats.jl` uses algorithms to partially avoid these\n",
        "    issues.\n",
        "-   `WeightedOnlineStats.jl` can use higher precision numbers (e.g.\n",
        "    `Quadmath.Float128`) and `merge!` to avoid these issues\n",
        "\n",
        "## Catastrophic cancellation\n",
        "\n",
        "Adding two numbers with 5 digits of precision\n",
        "\n",
        "      1.2345\n",
        "    + 0.0012345\n",
        "      ---------\n",
        "      1.2356\n",
        "\n",
        "We are loosing decimals and these losses can add up over millions of\n",
        "numbers.\n",
        "\n",
        "# Data Cubes\n",
        "\n",
        "## Apply it to the data cube"
      ],
      "id": "ae54d500-ed23-43a8-a62e-c0c3dac3cf7a"
    },
    {
      "cell_type": "code",
      "execution_count": 11,
      "metadata": {},
      "outputs": [
        {
          "output_type": "display_data",
          "metadata": {},
          "data": {
            "text/plain": [
              "YAXArray with the following dimensions\n",
              "lon                 Axis with 1440 Elements from -179.875 to 179.875\n",
              "lat                 Axis with 720 Elements from -89.875 to 89.875\n",
              "time                Axis with 1978 Elements from 1979-01-05T00:00:00 to 2021-12-31T00:00:00\n",
              "units: mm d^-1\n",
              "Total size: 7.64 GB"
            ]
          }
        }
      ],
      "source": [
        "using YAXArrays\n",
        "using Zarr\n",
        "c2_path = \"/home/gkraemer/data/DataCube/v3.0.2/esdc-8d-0.25deg-1x720x1440-3.0.2.zarr\"\n",
        "c2_zarr = Zarr.zopen(c2_path)\n",
        "c2_dataset = YAXArrays.open_dataset(c2_zarr)\n",
        "c2_full = YAXArrays.Cube(c2_dataset)\n",
        "c2 = c2_full[variable = \"air_temperature_2m\"]"
      ],
      "id": "7a5eeeb2"
    },
    {
      "cell_type": "markdown",
      "metadata": {},
      "source": [
        "## The naive way"
      ],
      "id": "d05ceac6-12b8-4989-b2ee-e01506482421"
    },
    {
      "cell_type": "code",
      "execution_count": 12,
      "metadata": {},
      "outputs": [
        {
          "output_type": "display_data",
          "metadata": {},
          "data": {
            "text/plain": [
              "get_mean1 (generic function with 1 method)"
            ]
          }
        }
      ],
      "source": [
        "using ProgressMeter\n",
        "function get_mean1(c)\n",
        "    o = WeightedMean(Float64)\n",
        "    w = cosd.(getAxis(\"lat\", c).values)\n",
        "    @showprogress for t in 1:size(c, 3)\n",
        "        for lat in 1:size(c, 2)\n",
        "            for lon in 1:size(c, 1)\n",
        "                fit!(o, c[lon, lat, t], w[lat])\n",
        "            end\n",
        "        end\n",
        "    end\n",
        "    mean(o)\n",
        "end\n",
        "# get_mean1(c2) # dont't run!"
      ],
      "id": "f45e64e8"
    },
    {
      "cell_type": "markdown",
      "metadata": {},
      "source": [
        "Don’t run this, it will never finish! Why?\n",
        "\n",
        "## Efficient reading of data"
      ],
      "id": "1e63cfef-8f97-475f-a90a-361a45860574"
    },
    {
      "cell_type": "code",
      "execution_count": 13,
      "metadata": {},
      "outputs": [
        {
          "output_type": "display_data",
          "metadata": {},
          "data": {
            "text/plain": [
              "get_mean2 (generic function with 1 method)"
            ]
          }
        }
      ],
      "source": [
        "function get_mean2(c)\n",
        "    o = WeightedMean(Float64)\n",
        "    w = cosd.(getAxis(\"lat\", c).values)\n",
        "    @showprogress for t in 1:size(c, 3)\n",
        "        ct = c[:, :, t] # respect chunking\n",
        "        for lat in 1:size(c2, 2)\n",
        "            wlat = w[lat]\n",
        "            for lon in 1:size(c, 1)\n",
        "                fit!(o, ct[lon, lat], wlat)\n",
        "            end\n",
        "        end\n",
        "    end\n",
        "    mean(o)\n",
        "end\n",
        "# get_mean2(c2) # < 4 min"
      ],
      "id": "aa83d112"
    },
    {
      "cell_type": "markdown",
      "metadata": {},
      "source": [
        "## Parallel processing\n",
        "\n",
        "Modern CPUs have more than one CPU!"
      ],
      "id": "98f27279-6732-44ff-b00c-d15ba6e10e73"
    },
    {
      "cell_type": "code",
      "execution_count": 14,
      "metadata": {},
      "outputs": [
        {
          "output_type": "stream",
          "name": "stdout",
          "text": [
            "Threads.nthreads() = 8\n",
            "Hello from thread 1\n",
            "Hello from thread 7\n",
            "Hello from thread 4\n",
            "Hello from thread 5\n",
            "Hello from thread 4\n",
            "Hello from thread 2\n",
            "Hello from thread 8\n",
            "Hello from thread 3\n",
            "Hello from thread 3\n",
            "Hello from thread 6"
          ]
        }
      ],
      "source": [
        "@show Threads.nthreads()\n",
        "Threads.@threads for i in 1:10\n",
        "    println(\"Hello from thread $(Threads.threadid())\")\n",
        "end"
      ],
      "id": "84ccdbfb"
    },
    {
      "cell_type": "markdown",
      "metadata": {},
      "source": [
        "Julia can use threading. An alternative is `Distributed` to use separate\n",
        "processes. - Threads share memory, processes don’t\n",
        "\n",
        "## Adapt our algorithm"
      ],
      "id": "0a51e7ec-38cf-492b-8454-d6ce6eb0e19e"
    },
    {
      "cell_type": "code",
      "execution_count": 15,
      "metadata": {},
      "outputs": [],
      "source": [
        "function get_mean3(c)\n",
        "    ntime = length(getAxis(\"time\", c))\n",
        "    w = cosd.(getAxis(\"lat\", c))\n",
        "    m = [WeightedMean(Float64) for _ in 1:ntime]\n",
        "    p = Progress(ntime)\n",
        "    Threads.@threads for t in 1:size(c, 3)\n",
        "        ct = c[:, :, t] # respect chunking\n",
        "        for lat in 1:size(ct, 2)\n",
        "            wlat = w[lat]\n",
        "            for lon in 1:size(ct, 1)\n",
        "                fit!(m[t], ct[lon, lat], wlat)\n",
        "            end\n",
        "        end\n",
        "        next!(p)\n",
        "    end\n",
        "    m0 = reduce(merge!, m) # pairwise merging reduces error!\n",
        "    mean(m0)\n",
        "end\n",
        "# get_mean3(c2) # ~ 1 min"
      ],
      "id": "5ebd3d45"
    },
    {
      "cell_type": "markdown",
      "metadata": {},
      "source": [
        "-   Why is `@threads` in the outermost loop?\n",
        "-   Is this calculation CPU or Bandwith starved?\n",
        "\n",
        "# Exercises\n",
        "\n",
        "## Exercises\n",
        "\n",
        "-   try get_mean with different accuracies (`Float32` and `Float16`,\n",
        "    `Quadmath.Float128`), Does the result change?\n",
        "-   there is `mean(x::WeightedVariance)`, does this differ from the\n",
        "    result of `mean(x::WeightedMean)`\n",
        "-   Create a cube with a single variable\n",
        "    -   z-transform each timeseries using `mapCube`\n",
        "\n",
        "## Exercises 2\n",
        "\n",
        "-   Create a cube with 6 variables\n",
        "\n",
        "-   create a cube with the same six variables and an axis with values\n",
        "    “mean” and “std”\n",
        "\n",
        "    -   Create a vector of WeightedOnlineStats\n",
        "\n",
        "        ``` julia\n",
        "        means = [WeightedMean(Float64) for _ in 1:6]\n",
        "        stds = [WeightedVariance(Float64) for _ in 1:6]\n",
        "        ```\n",
        "\n",
        "    -   You can create a cube from an array as follows:\n",
        "\n",
        "        ``` julia\n",
        "        axlist = [CategoricalAxis(\"statistic\", [\"mean\", \"std\"]),\n",
        "                  getAxis(\"Variable\", c2_full)]\n",
        "        data = rand(length.(axlist)...)\n",
        "        YAXArray(axlist, data)\n",
        "        ```\n",
        "\n",
        "    -   Where is the best place to implement parallelization?\n",
        "\n",
        "-   use `mapCube` to z-transform the variables\n",
        "\n",
        "    ``` julia\n",
        "    mapCube((c1, c2), indims = (InDims(...), InDims(...)), outdims = ...) do xout, xin1, xin2\n",
        "      ...\n",
        "    end\n",
        "    ```"
      ],
      "id": "c8092504-53e1-463d-b7f9-0db4695d8de5"
    }
  ],
  "nbformat": 4,
  "nbformat_minor": 5,
  "metadata": {
    "kernelspec": {
      "name": "julia-1.9",
      "display_name": "julia 1.9.0-rc2",
      "language": "julia"
    },
    "language_info": {
      "name": "julia",
      "file_extension": ".jl",
      "mimetype": "application/julia",
      "version": "1.9.0"
    }
  }
}